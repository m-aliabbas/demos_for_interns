{
  "nbformat": 4,
  "nbformat_minor": 0,
  "metadata": {
    "colab": {
      "provenance": [],
      "authorship_tag": "ABX9TyPHwqaOihrAkE6Mr2XaUs25",
      "include_colab_link": true
    },
    "kernelspec": {
      "name": "python3",
      "display_name": "Python 3"
    },
    "language_info": {
      "name": "python"
    }
  },
  "cells": [
    {
      "cell_type": "markdown",
      "metadata": {
        "id": "view-in-github",
        "colab_type": "text"
      },
      "source": [
        "<a href=\"https://colab.research.google.com/github/m-aliabbas/demos_for_interns/blob/main/BaseCodeForFindingSimilarWords.ipynb\" target=\"_parent\"><img src=\"https://colab.research.google.com/assets/colab-badge.svg\" alt=\"Open In Colab\"/></a>"
      ]
    },
    {
      "cell_type": "markdown",
      "source": [
        "# Synonym Finder and Matcher Notebook\n",
        "\n",
        "This Jupyter Notebook provides a comprehensive guide to extracting synonyms of any given English word using the WordNet database, and subsequently locating these synonyms within any provided text. This notebook presents a powerful technique for textual analysis, which can be useful in a variety of Natural Language Processing (NLP) applications like text mining, information retrieval, and semantic analysis."
      ],
      "metadata": {
        "id": "KmAH_wgM78tE"
      }
    },
    {
      "cell_type": "markdown",
      "source": [
        "Importing NLTK and downloading WordNet"
      ],
      "metadata": {
        "id": "wwMOt_BR7SvG"
      }
    },
    {
      "cell_type": "code",
      "source": [
        "import nltk\n",
        "nltk.download('wordnet')"
      ],
      "metadata": {
        "colab": {
          "base_uri": "https://localhost:8080/"
        },
        "id": "UTkKsynQ1sXd",
        "outputId": "a789c936-8003-44e5-88e5-64a3843849e8"
      },
      "execution_count": 5,
      "outputs": [
        {
          "output_type": "stream",
          "name": "stderr",
          "text": [
            "[nltk_data] Downloading package wordnet to /root/nltk_data...\n"
          ]
        },
        {
          "output_type": "execute_result",
          "data": {
            "text/plain": [
              "True"
            ]
          },
          "metadata": {},
          "execution_count": 5
        }
      ]
    },
    {
      "cell_type": "markdown",
      "source": [
        "Function to find Synonyms"
      ],
      "metadata": {
        "id": "UjH3k1N27WoH"
      }
    },
    {
      "cell_type": "code",
      "source": [
        "from nltk.corpus import wordnet\n",
        "\n",
        "def find_synonyms(word):\n",
        "    synonyms = []\n",
        "    for syn in wordnet.synsets(word):\n",
        "\n",
        "        for lemma in syn.lemmas():\n",
        "            synonyms.append(lemma.name())\n",
        "\n",
        "    return synonyms"
      ],
      "metadata": {
        "id": "0CKnAxA1ywf3"
      },
      "execution_count": 44,
      "outputs": []
    },
    {
      "cell_type": "markdown",
      "source": [
        "Example Call Data"
      ],
      "metadata": {
        "id": "fWjFrhuK7bcS"
      }
    },
    {
      "cell_type": "code",
      "source": [
        "text = \"\"\"\n",
        "Hey. Hello. My name is Becky from Senior Benefits. How are you today? Good. Great. This call is about a new state-trigulated final expense insurance loan that covers 100% of burial,\n",
        "funeral and cremation expenses. Now to generate the best price\n",
        "\"\"\""
      ],
      "metadata": {
        "id": "7IoqlFpq11PY"
      },
      "execution_count": 10,
      "outputs": []
    },
    {
      "cell_type": "markdown",
      "source": [
        "Choosen a random word"
      ],
      "metadata": {
        "id": "Ispgzdq97d3y"
      }
    },
    {
      "cell_type": "code",
      "source": [
        "synonyms = list(set(find_synonyms('interment')))\n",
        "print(synonyms)"
      ],
      "metadata": {
        "colab": {
          "base_uri": "https://localhost:8080/"
        },
        "id": "q0KNeqFU2bcv",
        "outputId": "3798f5ca-ba2a-4cda-a311-0d5c986ee56a"
      },
      "execution_count": 45,
      "outputs": [
        {
          "output_type": "stream",
          "name": "stdout",
          "text": [
            "['inhumation', 'interment', 'sepulture', 'burial', 'entombment']\n"
          ]
        }
      ]
    },
    {
      "cell_type": "markdown",
      "source": [
        "Findthing the matches"
      ],
      "metadata": {
        "id": "gnN4QuP-7gNN"
      }
    },
    {
      "cell_type": "code",
      "source": [
        "import re\n"
      ],
      "metadata": {
        "id": "V65E7n3Q3dyK"
      },
      "execution_count": 46,
      "outputs": []
    },
    {
      "cell_type": "code",
      "source": [
        "def search_syn(synonyms,text):\n",
        "    match_indexes = []\n",
        "    for synonym in synonyms:\n",
        "        match = re.search(synonym, text, re.I)\n",
        "        if match:\n",
        "            match_indexes += [(match.start(),match.group())]\n",
        "    return match_indexes\n"
      ],
      "metadata": {
        "id": "S_cQMBho4dKT"
      },
      "execution_count": 41,
      "outputs": []
    },
    {
      "cell_type": "code",
      "source": [
        "synonyms = list(set(find_synonyms('interment')))"
      ],
      "metadata": {
        "colab": {
          "base_uri": "https://localhost:8080/"
        },
        "id": "ilY__FBK5dPm",
        "outputId": "aa6139ca-87c8-46ff-a16a-2ab87b470a72"
      },
      "execution_count": 42,
      "outputs": [
        {
          "output_type": "stream",
          "name": "stdout",
          "text": [
            "Lemma('burial.n.01.burial')\n",
            "Lemma('burial.n.01.entombment')\n",
            "Lemma('burial.n.01.inhumation')\n",
            "Lemma('burial.n.01.interment')\n",
            "Lemma('burial.n.01.sepulture')\n"
          ]
        }
      ]
    },
    {
      "cell_type": "code",
      "source": [
        "search_syn(synonyms,text)"
      ],
      "metadata": {
        "colab": {
          "base_uri": "https://localhost:8080/"
        },
        "id": "mLMBXbMy6TAg",
        "outputId": "0f9dec35-1592-4f80-86cf-c0e57da62272"
      },
      "execution_count": 43,
      "outputs": [
        {
          "output_type": "execute_result",
          "data": {
            "text/plain": [
              "[(175, 'burial')]"
            ]
          },
          "metadata": {},
          "execution_count": 43
        }
      ]
    },
    {
      "cell_type": "code",
      "source": [],
      "metadata": {
        "id": "gSb8OJK56Wol"
      },
      "execution_count": null,
      "outputs": []
    }
  ]
}